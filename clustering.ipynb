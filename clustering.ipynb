{
  "cells": [
    {
      "cell_type": "code",
      "execution_count": 12,
      "metadata": {
        "id": "3xKgbJtTC0Qt"
      },
      "outputs": [],
      "source": [
        "import numpy as np\n",
        "import pandas as pd\n",
        "import matplotlib\n",
        "import matplotlib.pyplot as plt\n",
        "import seaborn as sns\n",
        "\n",
        "from sklearn.svm import SVC\n",
        "from sklearn.cluster import KMeans\n",
        "from sklearn.cluster import AgglomerativeClustering\n",
        "from sklearn.cluster import Birch\n",
        "from sklearn.cluster import DBSCAN\n",
        "from sklearn.mixture import GaussianMixture\n",
        "from sklearn.decomposition import PCA\n",
        "from sklearn.preprocessing import StandardScaler\n",
        "from sklearn.metrics import silhouette_score, davies_bouldin_score, calinski_harabasz_score"
      ]
    },
    {
      "cell_type": "code",
      "execution_count": 2,
      "metadata": {
        "colab": {
          "base_uri": "https://localhost:8080/",
          "height": 255
        },
        "id": "74ZqSRVpC0Qu",
        "outputId": "3e6d114b-d586-4ceb-b053-5fdc4925b19b"
      },
      "outputs": [
        {
          "data": {
            "text/html": [
              "<div>\n",
              "<style scoped>\n",
              "    .dataframe tbody tr th:only-of-type {\n",
              "        vertical-align: middle;\n",
              "    }\n",
              "\n",
              "    .dataframe tbody tr th {\n",
              "        vertical-align: top;\n",
              "    }\n",
              "\n",
              "    .dataframe thead th {\n",
              "        text-align: right;\n",
              "    }\n",
              "</style>\n",
              "<table border=\"1\" class=\"dataframe\">\n",
              "  <thead>\n",
              "    <tr style=\"text-align: right;\">\n",
              "      <th></th>\n",
              "      <th>id</th>\n",
              "      <th>f_00</th>\n",
              "      <th>f_01</th>\n",
              "      <th>f_02</th>\n",
              "      <th>f_03</th>\n",
              "      <th>f_04</th>\n",
              "      <th>f_05</th>\n",
              "      <th>f_06</th>\n",
              "      <th>f_07</th>\n",
              "      <th>f_08</th>\n",
              "      <th>...</th>\n",
              "      <th>f_19</th>\n",
              "      <th>f_20</th>\n",
              "      <th>f_21</th>\n",
              "      <th>f_22</th>\n",
              "      <th>f_23</th>\n",
              "      <th>f_24</th>\n",
              "      <th>f_25</th>\n",
              "      <th>f_26</th>\n",
              "      <th>f_27</th>\n",
              "      <th>f_28</th>\n",
              "    </tr>\n",
              "  </thead>\n",
              "  <tbody>\n",
              "    <tr>\n",
              "      <th>0</th>\n",
              "      <td>0</td>\n",
              "      <td>-0.389420</td>\n",
              "      <td>-0.912791</td>\n",
              "      <td>0.648951</td>\n",
              "      <td>0.589045</td>\n",
              "      <td>-0.830817</td>\n",
              "      <td>0.733624</td>\n",
              "      <td>2.258560</td>\n",
              "      <td>2</td>\n",
              "      <td>13</td>\n",
              "      <td>...</td>\n",
              "      <td>-0.478412</td>\n",
              "      <td>-0.757002</td>\n",
              "      <td>-0.763635</td>\n",
              "      <td>-1.090369</td>\n",
              "      <td>1.142641</td>\n",
              "      <td>-0.884274</td>\n",
              "      <td>1.137896</td>\n",
              "      <td>1.309073</td>\n",
              "      <td>1.463002</td>\n",
              "      <td>0.813527</td>\n",
              "    </tr>\n",
              "    <tr>\n",
              "      <th>1</th>\n",
              "      <td>1</td>\n",
              "      <td>-0.689249</td>\n",
              "      <td>-0.453954</td>\n",
              "      <td>0.654175</td>\n",
              "      <td>0.995248</td>\n",
              "      <td>-1.653020</td>\n",
              "      <td>0.863810</td>\n",
              "      <td>-0.090651</td>\n",
              "      <td>2</td>\n",
              "      <td>3</td>\n",
              "      <td>...</td>\n",
              "      <td>-0.428791</td>\n",
              "      <td>-0.089908</td>\n",
              "      <td>-1.784204</td>\n",
              "      <td>-0.839474</td>\n",
              "      <td>0.459685</td>\n",
              "      <td>1.759412</td>\n",
              "      <td>-0.275422</td>\n",
              "      <td>-0.852168</td>\n",
              "      <td>0.562457</td>\n",
              "      <td>-2.680541</td>\n",
              "    </tr>\n",
              "    <tr>\n",
              "      <th>2</th>\n",
              "      <td>2</td>\n",
              "      <td>0.809079</td>\n",
              "      <td>0.324568</td>\n",
              "      <td>-1.170602</td>\n",
              "      <td>-0.624491</td>\n",
              "      <td>0.105448</td>\n",
              "      <td>0.783948</td>\n",
              "      <td>1.988301</td>\n",
              "      <td>5</td>\n",
              "      <td>11</td>\n",
              "      <td>...</td>\n",
              "      <td>-0.413534</td>\n",
              "      <td>-1.602377</td>\n",
              "      <td>1.190984</td>\n",
              "      <td>3.267116</td>\n",
              "      <td>-0.088322</td>\n",
              "      <td>-2.168635</td>\n",
              "      <td>-0.974989</td>\n",
              "      <td>1.335763</td>\n",
              "      <td>-1.110655</td>\n",
              "      <td>-3.630723</td>\n",
              "    </tr>\n",
              "    <tr>\n",
              "      <th>3</th>\n",
              "      <td>3</td>\n",
              "      <td>-0.500923</td>\n",
              "      <td>0.229049</td>\n",
              "      <td>0.264109</td>\n",
              "      <td>0.231520</td>\n",
              "      <td>0.415012</td>\n",
              "      <td>-1.221269</td>\n",
              "      <td>0.138850</td>\n",
              "      <td>6</td>\n",
              "      <td>2</td>\n",
              "      <td>...</td>\n",
              "      <td>0.619283</td>\n",
              "      <td>1.287801</td>\n",
              "      <td>0.532837</td>\n",
              "      <td>1.036631</td>\n",
              "      <td>-2.041828</td>\n",
              "      <td>1.440490</td>\n",
              "      <td>-1.900191</td>\n",
              "      <td>-0.630771</td>\n",
              "      <td>-0.050641</td>\n",
              "      <td>0.238333</td>\n",
              "    </tr>\n",
              "    <tr>\n",
              "      <th>4</th>\n",
              "      <td>4</td>\n",
              "      <td>-0.671268</td>\n",
              "      <td>-1.039533</td>\n",
              "      <td>-0.270155</td>\n",
              "      <td>-1.830264</td>\n",
              "      <td>-0.290108</td>\n",
              "      <td>-1.852809</td>\n",
              "      <td>0.781898</td>\n",
              "      <td>8</td>\n",
              "      <td>7</td>\n",
              "      <td>...</td>\n",
              "      <td>-1.628830</td>\n",
              "      <td>-0.434948</td>\n",
              "      <td>0.322505</td>\n",
              "      <td>0.284326</td>\n",
              "      <td>-2.438365</td>\n",
              "      <td>1.473930</td>\n",
              "      <td>-1.044684</td>\n",
              "      <td>1.602686</td>\n",
              "      <td>-0.405263</td>\n",
              "      <td>-1.987263</td>\n",
              "    </tr>\n",
              "  </tbody>\n",
              "</table>\n",
              "<p>5 rows × 30 columns</p>\n",
              "</div>"
            ],
            "text/plain": [
              "   id      f_00      f_01      f_02      f_03      f_04      f_05      f_06  \\\n",
              "0   0 -0.389420 -0.912791  0.648951  0.589045 -0.830817  0.733624  2.258560   \n",
              "1   1 -0.689249 -0.453954  0.654175  0.995248 -1.653020  0.863810 -0.090651   \n",
              "2   2  0.809079  0.324568 -1.170602 -0.624491  0.105448  0.783948  1.988301   \n",
              "3   3 -0.500923  0.229049  0.264109  0.231520  0.415012 -1.221269  0.138850   \n",
              "4   4 -0.671268 -1.039533 -0.270155 -1.830264 -0.290108 -1.852809  0.781898   \n",
              "\n",
              "   f_07  f_08  ...      f_19      f_20      f_21      f_22      f_23  \\\n",
              "0     2    13  ... -0.478412 -0.757002 -0.763635 -1.090369  1.142641   \n",
              "1     2     3  ... -0.428791 -0.089908 -1.784204 -0.839474  0.459685   \n",
              "2     5    11  ... -0.413534 -1.602377  1.190984  3.267116 -0.088322   \n",
              "3     6     2  ...  0.619283  1.287801  0.532837  1.036631 -2.041828   \n",
              "4     8     7  ... -1.628830 -0.434948  0.322505  0.284326 -2.438365   \n",
              "\n",
              "       f_24      f_25      f_26      f_27      f_28  \n",
              "0 -0.884274  1.137896  1.309073  1.463002  0.813527  \n",
              "1  1.759412 -0.275422 -0.852168  0.562457 -2.680541  \n",
              "2 -2.168635 -0.974989  1.335763 -1.110655 -3.630723  \n",
              "3  1.440490 -1.900191 -0.630771 -0.050641  0.238333  \n",
              "4  1.473930 -1.044684  1.602686 -0.405263 -1.987263  \n",
              "\n",
              "[5 rows x 30 columns]"
            ]
          },
          "execution_count": 2,
          "metadata": {},
          "output_type": "execute_result"
        }
      ],
      "source": [
        "df1 = pd.read_csv('../datasets/clustering/data.csv')\n",
        "df = df1.copy()\n",
        "df.head()"
      ]
    },
    {
      "cell_type": "code",
      "execution_count": 3,
      "metadata": {
        "id": "6ZyvLhkHC0Qu"
      },
      "outputs": [],
      "source": [
        "df.drop('id',axis=1,inplace=True)"
      ]
    },
    {
      "cell_type": "code",
      "execution_count": 4,
      "metadata": {
        "colab": {
          "base_uri": "https://localhost:8080/"
        },
        "id": "082rC13vC0Qu",
        "outputId": "b53302c2-e6f2-4199-94a7-54c8aeb65096"
      },
      "outputs": [
        {
          "name": "stdout",
          "output_type": "stream",
          "text": [
            "<class 'pandas.core.frame.DataFrame'>\n",
            "RangeIndex: 98000 entries, 0 to 97999\n",
            "Data columns (total 29 columns):\n",
            " #   Column  Non-Null Count  Dtype  \n",
            "---  ------  --------------  -----  \n",
            " 0   f_00    98000 non-null  float64\n",
            " 1   f_01    98000 non-null  float64\n",
            " 2   f_02    98000 non-null  float64\n",
            " 3   f_03    98000 non-null  float64\n",
            " 4   f_04    98000 non-null  float64\n",
            " 5   f_05    98000 non-null  float64\n",
            " 6   f_06    98000 non-null  float64\n",
            " 7   f_07    98000 non-null  int64  \n",
            " 8   f_08    98000 non-null  int64  \n",
            " 9   f_09    98000 non-null  int64  \n",
            " 10  f_10    98000 non-null  int64  \n",
            " 11  f_11    98000 non-null  int64  \n",
            " 12  f_12    98000 non-null  int64  \n",
            " 13  f_13    98000 non-null  int64  \n",
            " 14  f_14    98000 non-null  float64\n",
            " 15  f_15    98000 non-null  float64\n",
            " 16  f_16    98000 non-null  float64\n",
            " 17  f_17    98000 non-null  float64\n",
            " 18  f_18    98000 non-null  float64\n",
            " 19  f_19    98000 non-null  float64\n",
            " 20  f_20    98000 non-null  float64\n",
            " 21  f_21    98000 non-null  float64\n",
            " 22  f_22    98000 non-null  float64\n",
            " 23  f_23    98000 non-null  float64\n",
            " 24  f_24    98000 non-null  float64\n",
            " 25  f_25    98000 non-null  float64\n",
            " 26  f_26    98000 non-null  float64\n",
            " 27  f_27    98000 non-null  float64\n",
            " 28  f_28    98000 non-null  float64\n",
            "dtypes: float64(22), int64(7)\n",
            "memory usage: 21.7 MB\n"
          ]
        }
      ],
      "source": [
        "df.info()"
      ]
    },
    {
      "cell_type": "code",
      "execution_count": 5,
      "metadata": {
        "colab": {
          "base_uri": "https://localhost:8080/"
        },
        "id": "NqNjE0DeC0Qv",
        "outputId": "50c1d6be-2458-4ba9-a215-f1d51bdd749e"
      },
      "outputs": [
        {
          "data": {
            "text/plain": [
              "f_00    0\n",
              "f_01    0\n",
              "f_02    0\n",
              "f_03    0\n",
              "f_04    0\n",
              "f_05    0\n",
              "f_06    0\n",
              "f_07    0\n",
              "f_08    0\n",
              "f_09    0\n",
              "f_10    0\n",
              "f_11    0\n",
              "f_12    0\n",
              "f_13    0\n",
              "f_14    0\n",
              "f_15    0\n",
              "f_16    0\n",
              "f_17    0\n",
              "f_18    0\n",
              "f_19    0\n",
              "f_20    0\n",
              "f_21    0\n",
              "f_22    0\n",
              "f_23    0\n",
              "f_24    0\n",
              "f_25    0\n",
              "f_26    0\n",
              "f_27    0\n",
              "f_28    0\n",
              "dtype: int64"
            ]
          },
          "execution_count": 5,
          "metadata": {},
          "output_type": "execute_result"
        }
      ],
      "source": [
        "df.isnull().sum()"
      ]
    },
    {
      "cell_type": "code",
      "execution_count": 6,
      "metadata": {
        "colab": {
          "base_uri": "https://localhost:8080/"
        },
        "id": "Lx0OcOpUC0Qv",
        "outputId": "c3d264af-c270-49b4-f8ff-a0661cbaef99"
      },
      "outputs": [
        {
          "data": {
            "text/plain": [
              "array([[-0.3895505 , -0.91769495,  0.649105  , ...,  0.96048158,\n",
              "         1.04529612,  0.68332274],\n",
              "       [-0.6885438 , -0.45919476,  0.65432122, ..., -0.55294213,\n",
              "         0.3554352 , -1.60267076],\n",
              "       [ 0.80560694,  0.31875345, -1.16796258, ...,  0.97917134,\n",
              "        -0.92625017, -2.22432704],\n",
              "       ...,\n",
              "       [-0.24988501, -0.46478181,  1.88458578, ...,  1.54422962,\n",
              "         1.1855134 ,  0.57075203],\n",
              "       [ 0.30932332,  2.17805293,  0.7613671 , ..., -1.08428749,\n",
              "        -0.5474945 ,  0.10775421],\n",
              "       [ 0.75184799,  0.56149   ,  1.45581708, ..., -0.63608329,\n",
              "         1.00085474, -0.31416284]])"
            ]
          },
          "execution_count": 6,
          "metadata": {},
          "output_type": "execute_result"
        }
      ],
      "source": [
        "scaler = StandardScaler()\n",
        "df_scaled = scaler.fit_transform(df)\n",
        "df_scaled"
      ]
    },
    {
      "cell_type": "code",
      "execution_count": 7,
      "metadata": {
        "colab": {
          "base_uri": "https://localhost:8080/"
        },
        "id": "MkVZhdn_C0Qv",
        "outputId": "43a306e7-cde3-443c-c5f5-70c412bdeaeb"
      },
      "outputs": [
        {
          "data": {
            "text/plain": [
              "(98000, 27)"
            ]
          },
          "execution_count": 7,
          "metadata": {},
          "output_type": "execute_result"
        }
      ],
      "source": [
        "pca = PCA(0.95)\n",
        "df_pca = pca.fit_transform(df_scaled)\n",
        "df_pca.shape"
      ]
    },
    {
      "cell_type": "code",
      "execution_count": 8,
      "metadata": {
        "colab": {
          "base_uri": "https://localhost:8080/"
        },
        "id": "IYQq90isC0Qv",
        "outputId": "bd3d1424-e299-4293-ed99-9eff5498b333"
      },
      "outputs": [
        {
          "data": {
            "text/plain": [
              "array([[-7.19058135e-01, -1.84284477e-02, -1.01489775e+00, ...,\n",
              "        -2.83092471e-01, -1.71015243e+00, -2.31225835e-01],\n",
              "       [-1.01209813e+00, -9.20653984e-01,  1.88684735e+00, ...,\n",
              "        -2.88820943e-01, -2.54160666e-02,  7.67857388e-01],\n",
              "       [-1.37061505e+00,  5.85541813e-01, -1.25720259e+00, ...,\n",
              "        -2.24548162e+00,  1.41960080e+00, -8.17539989e-01],\n",
              "       ...,\n",
              "       [ 5.27246160e-01, -6.92976846e-01, -1.41440532e+00, ...,\n",
              "         1.32667018e+00, -8.50737037e-01, -4.57939378e-01],\n",
              "       [ 5.87352923e-01, -1.18654312e+00, -1.25014778e-03, ...,\n",
              "        -2.76966073e-01,  8.49633227e-02, -4.24776376e-01],\n",
              "       [-1.67504885e+00, -5.86344582e-01,  3.84392187e-02, ...,\n",
              "        -1.27040866e-01, -1.21862235e-01,  1.42447148e+00]])"
            ]
          },
          "execution_count": 8,
          "metadata": {},
          "output_type": "execute_result"
        }
      ],
      "source": [
        "df_pca"
      ]
    },
    {
      "cell_type": "code",
      "execution_count": 9,
      "metadata": {
        "colab": {
          "base_uri": "https://localhost:8080/",
          "height": 255
        },
        "id": "H6Fr1P5GC0Qv",
        "outputId": "82d85dd2-6136-499e-f2e8-d77a5cfd8459"
      },
      "outputs": [
        {
          "data": {
            "text/html": [
              "<div>\n",
              "<style scoped>\n",
              "    .dataframe tbody tr th:only-of-type {\n",
              "        vertical-align: middle;\n",
              "    }\n",
              "\n",
              "    .dataframe tbody tr th {\n",
              "        vertical-align: top;\n",
              "    }\n",
              "\n",
              "    .dataframe thead th {\n",
              "        text-align: right;\n",
              "    }\n",
              "</style>\n",
              "<table border=\"1\" class=\"dataframe\">\n",
              "  <thead>\n",
              "    <tr style=\"text-align: right;\">\n",
              "      <th></th>\n",
              "      <th>0</th>\n",
              "      <th>1</th>\n",
              "      <th>2</th>\n",
              "      <th>3</th>\n",
              "      <th>4</th>\n",
              "      <th>5</th>\n",
              "      <th>6</th>\n",
              "      <th>7</th>\n",
              "      <th>8</th>\n",
              "      <th>9</th>\n",
              "      <th>...</th>\n",
              "      <th>17</th>\n",
              "      <th>18</th>\n",
              "      <th>19</th>\n",
              "      <th>20</th>\n",
              "      <th>21</th>\n",
              "      <th>22</th>\n",
              "      <th>23</th>\n",
              "      <th>24</th>\n",
              "      <th>25</th>\n",
              "      <th>26</th>\n",
              "    </tr>\n",
              "  </thead>\n",
              "  <tbody>\n",
              "    <tr>\n",
              "      <th>0</th>\n",
              "      <td>-0.719058</td>\n",
              "      <td>-0.018428</td>\n",
              "      <td>-1.014898</td>\n",
              "      <td>-1.852300</td>\n",
              "      <td>0.826982</td>\n",
              "      <td>0.114979</td>\n",
              "      <td>0.576083</td>\n",
              "      <td>-0.833193</td>\n",
              "      <td>1.125217</td>\n",
              "      <td>1.774150</td>\n",
              "      <td>...</td>\n",
              "      <td>0.708038</td>\n",
              "      <td>-0.441667</td>\n",
              "      <td>-0.419596</td>\n",
              "      <td>0.564399</td>\n",
              "      <td>-0.989216</td>\n",
              "      <td>-0.252555</td>\n",
              "      <td>-0.696925</td>\n",
              "      <td>-0.283092</td>\n",
              "      <td>-1.710152</td>\n",
              "      <td>-0.231226</td>\n",
              "    </tr>\n",
              "    <tr>\n",
              "      <th>1</th>\n",
              "      <td>-1.012098</td>\n",
              "      <td>-0.920654</td>\n",
              "      <td>1.886847</td>\n",
              "      <td>1.260584</td>\n",
              "      <td>-0.212045</td>\n",
              "      <td>-1.256363</td>\n",
              "      <td>0.162246</td>\n",
              "      <td>-0.116176</td>\n",
              "      <td>-0.307030</td>\n",
              "      <td>1.164314</td>\n",
              "      <td>...</td>\n",
              "      <td>-0.281521</td>\n",
              "      <td>-0.514156</td>\n",
              "      <td>0.529182</td>\n",
              "      <td>0.276327</td>\n",
              "      <td>-1.077501</td>\n",
              "      <td>-0.753800</td>\n",
              "      <td>-1.168344</td>\n",
              "      <td>-0.288821</td>\n",
              "      <td>-0.025416</td>\n",
              "      <td>0.767857</td>\n",
              "    </tr>\n",
              "    <tr>\n",
              "      <th>2</th>\n",
              "      <td>-1.370615</td>\n",
              "      <td>0.585542</td>\n",
              "      <td>-1.257203</td>\n",
              "      <td>0.820805</td>\n",
              "      <td>-0.151678</td>\n",
              "      <td>-0.570685</td>\n",
              "      <td>0.676353</td>\n",
              "      <td>-0.316492</td>\n",
              "      <td>1.164202</td>\n",
              "      <td>1.284616</td>\n",
              "      <td>...</td>\n",
              "      <td>-0.007068</td>\n",
              "      <td>0.125229</td>\n",
              "      <td>-2.126750</td>\n",
              "      <td>0.019317</td>\n",
              "      <td>-1.061323</td>\n",
              "      <td>1.433495</td>\n",
              "      <td>1.260143</td>\n",
              "      <td>-2.245482</td>\n",
              "      <td>1.419601</td>\n",
              "      <td>-0.817540</td>\n",
              "    </tr>\n",
              "    <tr>\n",
              "      <th>3</th>\n",
              "      <td>1.218932</td>\n",
              "      <td>0.171315</td>\n",
              "      <td>0.230498</td>\n",
              "      <td>1.053605</td>\n",
              "      <td>0.578840</td>\n",
              "      <td>-0.287229</td>\n",
              "      <td>-0.876048</td>\n",
              "      <td>0.081418</td>\n",
              "      <td>-0.350356</td>\n",
              "      <td>-0.760648</td>\n",
              "      <td>...</td>\n",
              "      <td>-0.000508</td>\n",
              "      <td>1.295040</td>\n",
              "      <td>1.347752</td>\n",
              "      <td>0.792693</td>\n",
              "      <td>0.831598</td>\n",
              "      <td>-1.010158</td>\n",
              "      <td>1.031897</td>\n",
              "      <td>-0.185921</td>\n",
              "      <td>-0.304419</td>\n",
              "      <td>0.145491</td>\n",
              "    </tr>\n",
              "    <tr>\n",
              "      <th>4</th>\n",
              "      <td>-1.025793</td>\n",
              "      <td>-0.151604</td>\n",
              "      <td>1.437407</td>\n",
              "      <td>2.500153</td>\n",
              "      <td>-0.523530</td>\n",
              "      <td>-0.436372</td>\n",
              "      <td>-2.411039</td>\n",
              "      <td>-0.901765</td>\n",
              "      <td>0.105160</td>\n",
              "      <td>0.014072</td>\n",
              "      <td>...</td>\n",
              "      <td>0.802116</td>\n",
              "      <td>0.415776</td>\n",
              "      <td>-1.944199</td>\n",
              "      <td>0.078684</td>\n",
              "      <td>-0.815831</td>\n",
              "      <td>0.687043</td>\n",
              "      <td>1.144737</td>\n",
              "      <td>0.866386</td>\n",
              "      <td>-0.056802</td>\n",
              "      <td>-0.522505</td>\n",
              "    </tr>\n",
              "  </tbody>\n",
              "</table>\n",
              "<p>5 rows × 27 columns</p>\n",
              "</div>"
            ],
            "text/plain": [
              "         0         1         2         3         4         5         6   \\\n",
              "0 -0.719058 -0.018428 -1.014898 -1.852300  0.826982  0.114979  0.576083   \n",
              "1 -1.012098 -0.920654  1.886847  1.260584 -0.212045 -1.256363  0.162246   \n",
              "2 -1.370615  0.585542 -1.257203  0.820805 -0.151678 -0.570685  0.676353   \n",
              "3  1.218932  0.171315  0.230498  1.053605  0.578840 -0.287229 -0.876048   \n",
              "4 -1.025793 -0.151604  1.437407  2.500153 -0.523530 -0.436372 -2.411039   \n",
              "\n",
              "         7         8         9   ...        17        18        19        20  \\\n",
              "0 -0.833193  1.125217  1.774150  ...  0.708038 -0.441667 -0.419596  0.564399   \n",
              "1 -0.116176 -0.307030  1.164314  ... -0.281521 -0.514156  0.529182  0.276327   \n",
              "2 -0.316492  1.164202  1.284616  ... -0.007068  0.125229 -2.126750  0.019317   \n",
              "3  0.081418 -0.350356 -0.760648  ... -0.000508  1.295040  1.347752  0.792693   \n",
              "4 -0.901765  0.105160  0.014072  ...  0.802116  0.415776 -1.944199  0.078684   \n",
              "\n",
              "         21        22        23        24        25        26  \n",
              "0 -0.989216 -0.252555 -0.696925 -0.283092 -1.710152 -0.231226  \n",
              "1 -1.077501 -0.753800 -1.168344 -0.288821 -0.025416  0.767857  \n",
              "2 -1.061323  1.433495  1.260143 -2.245482  1.419601 -0.817540  \n",
              "3  0.831598 -1.010158  1.031897 -0.185921 -0.304419  0.145491  \n",
              "4 -0.815831  0.687043  1.144737  0.866386 -0.056802 -0.522505  \n",
              "\n",
              "[5 rows x 27 columns]"
            ]
          },
          "execution_count": 9,
          "metadata": {},
          "output_type": "execute_result"
        }
      ],
      "source": [
        "df_pca = pd.DataFrame(df_pca)\n",
        "df_pca.head()"
      ]
    },
    {
      "cell_type": "markdown",
      "metadata": {
        "id": "13HVDC7bC0Qv"
      },
      "source": [
        "# Modeling"
      ]
    },
    {
      "cell_type": "markdown",
      "metadata": {
        "id": "j91THWX2rgED"
      },
      "source": [
        "Cari K optimal menggunakan metode elbow dengan algoritma kmeans"
      ]
    },
    {
      "cell_type": "code",
      "execution_count": 10,
      "metadata": {
        "id": "_PROX1y8C0Qw"
      },
      "outputs": [
        {
          "data": {
            "image/png": "[encoded data removed]",
            "text/plain": [
              "<Figure size 800x550 with 2 Axes>"
            ]
          },
          "metadata": {},
          "output_type": "display_data"
        },
        {
          "data": {
            "text/plain": [
              "<Axes: title={'center': 'Distortion Score Elbow for KMeans Clustering'}, xlabel='k', ylabel='distortion score'>"
            ]
          },
          "execution_count": 10,
          "metadata": {},
          "output_type": "execute_result"
        }
      ],
      "source": [
        "from yellowbrick.cluster import KElbowVisualizer\n",
        "\n",
        "model = KMeans()\n",
        "visualizer = KElbowVisualizer(model, k=(4,12))\n",
        "\n",
        "visualizer.fit(df_pca)\n",
        "visualizer.show()"
      ]
    },
    {
      "cell_type": "code",
      "execution_count": null,
      "metadata": {
        "id": "-2zSAbJzC0Qw"
      },
      "outputs": [],
      "source": [
        "#KMeans\n",
        "# km = KMeans(n_clusters=7)\n",
        "# y = km.fit_predict(df_pca)"
      ]
    },
    {
      "cell_type": "code",
      "execution_count": null,
      "metadata": {
        "id": "GONthRyWr18N"
      },
      "outputs": [],
      "source": [
        "#Hierarchical\n",
        "# hag = AgglomerativeClustering(n_clusters=7)\n",
        "# y = hag.fit_predict(df_pca)"
      ]
    },
    {
      "cell_type": "code",
      "execution_count": 13,
      "metadata": {
        "id": "wKtEo8rxGTsf"
      },
      "outputs": [],
      "source": [
        "#GMM\n",
        "gmm = GaussianMixture(n_components = 6)\n",
        "y = gmm.fit_predict(df_pca)\n",
        "\n",
        "silhouette_avg = silhouette_score(df_pca, y)\n",
        "print(f\"Silhouette Score of K-Means: {silhouette_avg}\")\n",
        "\n",
        "davies_bouldin_avg = davies_bouldin_score(df_pca, y)\n",
        "print(f\"Davies-Bouldin Index: {davies_bouldin_avg}\")\n",
        "\n",
        "calinski_harabasz_avg = calinski_harabasz_score(df_pca, y)\n",
        "print(f\"Calinski Harabasz: {calinski_harabasz_avg}\")"
      ]
    },
    {
      "cell_type": "code",
      "execution_count": null,
      "metadata": {
        "colab": {
          "base_uri": "https://localhost:8080/"
        },
        "id": "eS7KxhO8C0Qx",
        "outputId": "8e8bdf42-3c6c-44fe-f90f-0ef579b10fde"
      },
      "outputs": [
        {
          "data": {
            "text/plain": [
              "array([-1, -1, -1, ..., -1, -1, -1])"
            ]
          },
          "execution_count": 23,
          "metadata": {},
          "output_type": "execute_result"
        }
      ],
      "source": [
        "y"
      ]
    },
    {
      "cell_type": "code",
      "execution_count": null,
      "metadata": {
        "id": "gQF1lzXcC0Qx"
      },
      "outputs": [],
      "source": [
        "df1['Predicted']=y"
      ]
    },
    {
      "cell_type": "code",
      "execution_count": null,
      "metadata": {
        "colab": {
          "base_uri": "https://localhost:8080/"
        },
        "id": "mtngliiXC0Qx",
        "outputId": "f58aa966-b29a-49d7-ba80-1dde39bad9e8"
      },
      "outputs": [
        {
          "data": {
            "text/plain": [
              "(98000, 2)"
            ]
          },
          "execution_count": 25,
          "metadata": {},
          "output_type": "execute_result"
        }
      ],
      "source": [
        "submission=df1.loc[:,['id','Predicted']]\n",
        "submission.shape"
      ]
    },
    {
      "cell_type": "code",
      "execution_count": null,
      "metadata": {
        "colab": {
          "base_uri": "https://localhost:8080/",
          "height": 423
        },
        "id": "tf2UGDAPC0Qx",
        "outputId": "fa1b4077-399e-4d8f-c2b7-317bdda74325"
      },
      "outputs": [
        {
          "data": {
            "application/vnd.google.colaboratory.intrinsic+json": {
              "summary": "{\n  \"name\": \"submission\",\n  \"rows\": 98000,\n  \"fields\": [\n    {\n      \"column\": \"id\",\n      \"properties\": {\n        \"dtype\": \"number\",\n        \"std\": 28290,\n        \"min\": 0,\n        \"max\": 97999,\n        \"num_unique_values\": 98000,\n        \"samples\": [\n          41816,\n          90575,\n          15056\n        ],\n        \"semantic_type\": \"\",\n        \"description\": \"\"\n      }\n    },\n    {\n      \"column\": \"Predicted\",\n      \"properties\": {\n        \"dtype\": \"number\",\n        \"std\": 0,\n        \"min\": -1,\n        \"max\": -1,\n        \"num_unique_values\": 1,\n        \"samples\": [\n          -1\n        ],\n        \"semantic_type\": \"\",\n        \"description\": \"\"\n      }\n    }\n  ]\n}",
              "type": "dataframe",
              "variable_name": "submission"
            },
            "text/html": [
              "\n",
              "  <div id=\"df-1d5e3c96-c759-41c4-bd82-b22e8cc07023\" class=\"colab-df-container\">\n",
              "    <div>\n",
              "<style scoped>\n",
              "    .dataframe tbody tr th:only-of-type {\n",
              "        vertical-align: middle;\n",
              "    }\n",
              "\n",
              "    .dataframe tbody tr th {\n",
              "        vertical-align: top;\n",
              "    }\n",
              "\n",
              "    .dataframe thead th {\n",
              "        text-align: right;\n",
              "    }\n",
              "</style>\n",
              "<table border=\"1\" class=\"dataframe\">\n",
              "  <thead>\n",
              "    <tr style=\"text-align: right;\">\n",
              "      <th></th>\n",
              "      <th>id</th>\n",
              "      <th>Predicted</th>\n",
              "    </tr>\n",
              "  </thead>\n",
              "  <tbody>\n",
              "    <tr>\n",
              "      <th>0</th>\n",
              "      <td>0</td>\n",
              "      <td>-1</td>\n",
              "    </tr>\n",
              "    <tr>\n",
              "      <th>1</th>\n",
              "      <td>1</td>\n",
              "      <td>-1</td>\n",
              "    </tr>\n",
              "    <tr>\n",
              "      <th>2</th>\n",
              "      <td>2</td>\n",
              "      <td>-1</td>\n",
              "    </tr>\n",
              "    <tr>\n",
              "      <th>3</th>\n",
              "      <td>3</td>\n",
              "      <td>-1</td>\n",
              "    </tr>\n",
              "    <tr>\n",
              "      <th>4</th>\n",
              "      <td>4</td>\n",
              "      <td>-1</td>\n",
              "    </tr>\n",
              "    <tr>\n",
              "      <th>...</th>\n",
              "      <td>...</td>\n",
              "      <td>...</td>\n",
              "    </tr>\n",
              "    <tr>\n",
              "      <th>95</th>\n",
              "      <td>95</td>\n",
              "      <td>-1</td>\n",
              "    </tr>\n",
              "    <tr>\n",
              "      <th>96</th>\n",
              "      <td>96</td>\n",
              "      <td>-1</td>\n",
              "    </tr>\n",
              "    <tr>\n",
              "      <th>97</th>\n",
              "      <td>97</td>\n",
              "      <td>-1</td>\n",
              "    </tr>\n",
              "    <tr>\n",
              "      <th>98</th>\n",
              "      <td>98</td>\n",
              "      <td>-1</td>\n",
              "    </tr>\n",
              "    <tr>\n",
              "      <th>99</th>\n",
              "      <td>99</td>\n",
              "      <td>-1</td>\n",
              "    </tr>\n",
              "  </tbody>\n",
              "</table>\n",
              "<p>100 rows × 2 columns</p>\n",
              "</div>\n",
              "    <div class=\"colab-df-buttons\">\n",
              "\n",
              "  <div class=\"colab-df-container\">\n",
              "    <button class=\"colab-df-convert\" onclick=\"convertToInteractive('df-1d5e3c96-c759-41c4-bd82-b22e8cc07023')\"\n",
              "            title=\"Convert this dataframe to an interactive table.\"\n",
              "            style=\"display:none;\">\n",
              "\n",
              "  <svg xmlns=\"http://www.w3.org/2000/svg\" height=\"24px\" viewBox=\"0 -960 960 960\">\n",
              "    <path d=\"M120-120v-720h720v720H120Zm60-500h600v-160H180v160Zm220 220h160v-160H400v160Zm0 220h160v-160H400v160ZM180-400h160v-160H180v160Zm440 0h160v-160H620v160ZM180-180h160v-160H180v160Zm440 0h160v-160H620v160Z\"/>\n",
              "  </svg>\n",
              "    </button>\n",
              "\n",
              "  <style>\n",
              "    .colab-df-container {\n",
              "      display:flex;\n",
              "      gap: 12px;\n",
              "    }\n",
              "\n",
              "    .colab-df-convert {\n",
              "      background-color: #E8F0FE;\n",
              "      border: none;\n",
              "      border-radius: 50%;\n",
              "      cursor: pointer;\n",
              "      display: none;\n",
              "      fill: #1967D2;\n",
              "      height: 32px;\n",
              "      padding: 0 0 0 0;\n",
              "      width: 32px;\n",
              "    }\n",
              "\n",
              "    .colab-df-convert:hover {\n",
              "      background-color: #E2EBFA;\n",
              "      box-shadow: 0px 1px 2px rgba(60, 64, 67, 0.3), 0px 1px 3px 1px rgba(60, 64, 67, 0.15);\n",
              "      fill: #174EA6;\n",
              "    }\n",
              "\n",
              "    .colab-df-buttons div {\n",
              "      margin-bottom: 4px;\n",
              "    }\n",
              "\n",
              "    [theme=dark] .colab-df-convert {\n",
              "      background-color: #3B4455;\n",
              "      fill: #D2E3FC;\n",
              "    }\n",
              "\n",
              "    [theme=dark] .colab-df-convert:hover {\n",
              "      background-color: #434B5C;\n",
              "      box-shadow: 0px 1px 3px 1px rgba(0, 0, 0, 0.15);\n",
              "      filter: drop-shadow(0px 1px 2px rgba(0, 0, 0, 0.3));\n",
              "      fill: #FFFFFF;\n",
              "    }\n",
              "  </style>\n",
              "\n",
              "    <script>\n",
              "      const buttonEl =\n",
              "        document.querySelector('#df-1d5e3c96-c759-41c4-bd82-b22e8cc07023 button.colab-df-convert');\n",
              "      buttonEl.style.display =\n",
              "        google.colab.kernel.accessAllowed ? 'block' : 'none';\n",
              "\n",
              "      async function convertToInteractive(key) {\n",
              "        const element = document.querySelector('#df-1d5e3c96-c759-41c4-bd82-b22e8cc07023');\n",
              "        const dataTable =\n",
              "          await google.colab.kernel.invokeFunction('convertToInteractive',\n",
              "                                                    [key], {});\n",
              "        if (!dataTable) return;\n",
              "\n",
              "        const docLinkHtml = 'Like what you see? Visit the ' +\n",
              "          '<a target=\"_blank\" href=https://colab.research.google.com/notebooks/data_table.ipynb>data table notebook</a>'\n",
              "          + ' to learn more about interactive tables.';\n",
              "        element.innerHTML = '';\n",
              "        dataTable['output_type'] = 'display_data';\n",
              "        await google.colab.output.renderOutput(dataTable, element);\n",
              "        const docLink = document.createElement('div');\n",
              "        docLink.innerHTML = docLinkHtml;\n",
              "        element.appendChild(docLink);\n",
              "      }\n",
              "    </script>\n",
              "  </div>\n",
              "\n",
              "\n",
              "<div id=\"df-dc2c43fc-045a-456d-8f54-6fc45f85f39d\">\n",
              "  <button class=\"colab-df-quickchart\" onclick=\"quickchart('df-dc2c43fc-045a-456d-8f54-6fc45f85f39d')\"\n",
              "            title=\"Suggest charts\"\n",
              "            style=\"display:none;\">\n",
              "\n",
              "<svg xmlns=\"http://www.w3.org/2000/svg\" height=\"24px\"viewBox=\"0 0 24 24\"\n",
              "     width=\"24px\">\n",
              "    <g>\n",
              "        <path d=\"M19 3H5c-1.1 0-2 .9-2 2v14c0 1.1.9 2 2 2h14c1.1 0 2-.9 2-2V5c0-1.1-.9-2-2-2zM9 17H7v-7h2v7zm4 0h-2V7h2v10zm4 0h-2v-4h2v4z\"/>\n",
              "    </g>\n",
              "</svg>\n",
              "  </button>\n",
              "\n",
              "<style>\n",
              "  .colab-df-quickchart {\n",
              "      --bg-color: #E8F0FE;\n",
              "      --fill-color: #1967D2;\n",
              "      --hover-bg-color: #E2EBFA;\n",
              "      --hover-fill-color: #174EA6;\n",
              "      --disabled-fill-color: #AAA;\n",
              "      --disabled-bg-color: #DDD;\n",
              "  }\n",
              "\n",
              "  [theme=dark] .colab-df-quickchart {\n",
              "      --bg-color: #3B4455;\n",
              "      --fill-color: #D2E3FC;\n",
              "      --hover-bg-color: #434B5C;\n",
              "      --hover-fill-color: #FFFFFF;\n",
              "      --disabled-bg-color: #3B4455;\n",
              "      --disabled-fill-color: #666;\n",
              "  }\n",
              "\n",
              "  .colab-df-quickchart {\n",
              "    background-color: var(--bg-color);\n",
              "    border: none;\n",
              "    border-radius: 50%;\n",
              "    cursor: pointer;\n",
              "    display: none;\n",
              "    fill: var(--fill-color);\n",
              "    height: 32px;\n",
              "    padding: 0;\n",
              "    width: 32px;\n",
              "  }\n",
              "\n",
              "  .colab-df-quickchart:hover {\n",
              "    background-color: var(--hover-bg-color);\n",
              "    box-shadow: 0 1px 2px rgba(60, 64, 67, 0.3), 0 1px 3px 1px rgba(60, 64, 67, 0.15);\n",
              "    fill: var(--button-hover-fill-color);\n",
              "  }\n",
              "\n",
              "  .colab-df-quickchart-complete:disabled,\n",
              "  .colab-df-quickchart-complete:disabled:hover {\n",
              "    background-color: var(--disabled-bg-color);\n",
              "    fill: var(--disabled-fill-color);\n",
              "    box-shadow: none;\n",
              "  }\n",
              "\n",
              "  .colab-df-spinner {\n",
              "    border: 2px solid var(--fill-color);\n",
              "    border-color: transparent;\n",
              "    border-bottom-color: var(--fill-color);\n",
              "    animation:\n",
              "      spin 1s steps(1) infinite;\n",
              "  }\n",
              "\n",
              "  @keyframes spin {\n",
              "    0% {\n",
              "      border-color: transparent;\n",
              "      border-bottom-color: var(--fill-color);\n",
              "      border-left-color: var(--fill-color);\n",
              "    }\n",
              "    20% {\n",
              "      border-color: transparent;\n",
              "      border-left-color: var(--fill-color);\n",
              "      border-top-color: var(--fill-color);\n",
              "    }\n",
              "    30% {\n",
              "      border-color: transparent;\n",
              "      border-left-color: var(--fill-color);\n",
              "      border-top-color: var(--fill-color);\n",
              "      border-right-color: var(--fill-color);\n",
              "    }\n",
              "    40% {\n",
              "      border-color: transparent;\n",
              "      border-right-color: var(--fill-color);\n",
              "      border-top-color: var(--fill-color);\n",
              "    }\n",
              "    60% {\n",
              "      border-color: transparent;\n",
              "      border-right-color: var(--fill-color);\n",
              "    }\n",
              "    80% {\n",
              "      border-color: transparent;\n",
              "      border-right-color: var(--fill-color);\n",
              "      border-bottom-color: var(--fill-color);\n",
              "    }\n",
              "    90% {\n",
              "      border-color: transparent;\n",
              "      border-bottom-color: var(--fill-color);\n",
              "    }\n",
              "  }\n",
              "</style>\n",
              "\n",
              "  <script>\n",
              "    async function quickchart(key) {\n",
              "      const quickchartButtonEl =\n",
              "        document.querySelector('#' + key + ' button');\n",
              "      quickchartButtonEl.disabled = true;  // To prevent multiple clicks.\n",
              "      quickchartButtonEl.classList.add('colab-df-spinner');\n",
              "      try {\n",
              "        const charts = await google.colab.kernel.invokeFunction(\n",
              "            'suggestCharts', [key], {});\n",
              "      } catch (error) {\n",
              "        console.error('Error during call to suggestCharts:', error);\n",
              "      }\n",
              "      quickchartButtonEl.classList.remove('colab-df-spinner');\n",
              "      quickchartButtonEl.classList.add('colab-df-quickchart-complete');\n",
              "    }\n",
              "    (() => {\n",
              "      let quickchartButtonEl =\n",
              "        document.querySelector('#df-dc2c43fc-045a-456d-8f54-6fc45f85f39d button');\n",
              "      quickchartButtonEl.style.display =\n",
              "        google.colab.kernel.accessAllowed ? 'block' : 'none';\n",
              "    })();\n",
              "  </script>\n",
              "</div>\n",
              "    </div>\n",
              "  </div>\n"
            ],
            "text/plain": [
              "    id  Predicted\n",
              "0    0         -1\n",
              "1    1         -1\n",
              "2    2         -1\n",
              "3    3         -1\n",
              "4    4         -1\n",
              "..  ..        ...\n",
              "95  95         -1\n",
              "96  96         -1\n",
              "97  97         -1\n",
              "98  98         -1\n",
              "99  99         -1\n",
              "\n",
              "[100 rows x 2 columns]"
            ]
          },
          "execution_count": 27,
          "metadata": {},
          "output_type": "execute_result"
        }
      ],
      "source": [
        "submission.head(100)"
      ]
    },
    {
      "cell_type": "code",
      "execution_count": null,
      "metadata": {
        "id": "VGnKFIrNC0Qx"
      },
      "outputs": [],
      "source": [
        "submission.to_csv('submission_gmm.csv',index=False)"
      ]
    }
  ],
  "metadata": {
    "colab": {
      "provenance": []
    },
    "kernelspec": {
      "display_name": "base",
      "language": "python",
      "name": "python3"
    },
    "language_info": {
      "codemirror_mode": {
        "name": "ipython",
        "version": 3
      },
      "file_extension": ".py",
      "mimetype": "text/x-python",
      "name": "python",
      "nbconvert_exporter": "python",
      "pygments_lexer": "ipython3",
      "version": "3.12.1"
    }
  },
  "nbformat": 4,
  "nbformat_minor": 0
}
